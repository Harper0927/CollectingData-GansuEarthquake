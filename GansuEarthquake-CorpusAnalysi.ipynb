{
 "cells": [
  {
   "cell_type": "markdown",
   "id": "95bb0372",
   "metadata": {},
   "source": [
    "# Gansu Earthquake published on BBC NEWS with Corpus Analysis"
   ]
  },
  {
   "cell_type": "markdown",
   "id": "194dc7c7",
   "metadata": {},
   "source": [
    "# # Introduction"
   ]
  },
  {
   "cell_type": "markdown",
   "id": "cef06ba5",
   "metadata": {},
   "source": [
    "When it comes to natural calamities,the seismic tremors that shake the earth's foundation not only leave physical scars on the affected regions but also reverberate throughout human history.The Earthquake, which occurred in the Chinese region of Gansu, with its epicenter in Dingxi, unfolded on 2023-12-19, leaving a trail of destruction and sorrow in its wake.  In the aftermath of this devastating event, understanding the nuanced portrayal of the international community's response is crucial in unraveling the complexities surrounding disaster management and global cooperation. These articles, meticulously selected to capture the immediate and evolving narratives surrounding the catastrophe, serve as windows into the reporting, analysis, and human stories that emerged in the wake of this natural disaster."
   ]
  },
  {
   "cell_type": "markdown",
   "id": "481cf898",
   "metadata": {},
   "source": [
    "# #Research Question"
   ]
  },
  {
   "cell_type": "markdown",
   "id": "1ed3aeeb",
   "metadata": {},
   "source": [
    "This corpus analysis project endeavors to explore the language employed in three selected news articles from BBC News, shedding light on the intricate ways in which the international community's response to the Gansu Earthquake is portrayed. The central research question guiding this investigation is: \"In what ways does the language in the articles portray the international community's response to the Gansu Earthquake?\"\n",
    "With the use of natural language processing methods—spaCy, this research attempts to break out the linguistic components that are embedded in the articles.The analysis aims to identify the nuanced details and overall themes that underlie the portrayal of global efforts following the Gansu Earthquake.\n",
    "The choice of BBC News as the primary source ensures a globally informed perspective, providing a comprehensive understanding of how the language employed in media narratives contributes to shaping perceptions of the international community's role in disaster response. This investigation not only contributes to the discourse on media representation but also offers insights into the dynamics of global collaboration during times of crisis.\n",
    "The final objective of this investigation is to unravel the linguistic tapestry weaved through these pieces in order to gain a deeper comprehension of how language influences and reflects how we perceive the global community's response to the Gansu Earthquake. By using this lens, we hope to add to the larger discussion on media influence, crisis communication, and how language shapes our view of world events as a collective."
   ]
  },
  {
   "cell_type": "code",
   "execution_count": 1,
   "id": "632250ee",
   "metadata": {
    "scrolled": true
   },
   "outputs": [
    {
     "name": "stdout",
     "output_type": "stream",
     "text": [
      "Requirement already satisfied: nbformat in /Users/huangyuxin/anaconda3/lib/python3.11/site-packages (5.9.2)\n",
      "Requirement already satisfied: fastjsonschema in /Users/huangyuxin/anaconda3/lib/python3.11/site-packages (from nbformat) (2.16.2)\n",
      "Requirement already satisfied: jsonschema>=2.6 in /Users/huangyuxin/anaconda3/lib/python3.11/site-packages (from nbformat) (4.17.3)\n",
      "Requirement already satisfied: jupyter-core in /Users/huangyuxin/anaconda3/lib/python3.11/site-packages (from nbformat) (5.3.0)\n",
      "Requirement already satisfied: traitlets>=5.1 in /Users/huangyuxin/anaconda3/lib/python3.11/site-packages (from nbformat) (5.7.1)\n",
      "Requirement already satisfied: attrs>=17.4.0 in /Users/huangyuxin/anaconda3/lib/python3.11/site-packages (from jsonschema>=2.6->nbformat) (22.1.0)\n",
      "Requirement already satisfied: pyrsistent!=0.17.0,!=0.17.1,!=0.17.2,>=0.14.0 in /Users/huangyuxin/anaconda3/lib/python3.11/site-packages (from jsonschema>=2.6->nbformat) (0.18.0)\n",
      "Requirement already satisfied: platformdirs>=2.5 in /Users/huangyuxin/anaconda3/lib/python3.11/site-packages (from jupyter-core->nbformat) (2.5.2)\n"
     ]
    }
   ],
   "source": [
    "!pip install nbformat --upgrade"
   ]
  },
  {
   "cell_type": "code",
   "execution_count": 2,
   "id": "389602b8",
   "metadata": {},
   "outputs": [
    {
     "name": "stdout",
     "output_type": "stream",
     "text": [
      "Collecting en-core-web-sm==3.7.1\n",
      "  Downloading https://github.com/explosion/spacy-models/releases/download/en_core_web_sm-3.7.1/en_core_web_sm-3.7.1-py3-none-any.whl (12.8 MB)\n",
      "\u001b[2K     \u001b[90m━━━━━━━━━━━━━━━━━━━━━━━━━━━━━━━━━━━━━━━━\u001b[0m \u001b[32m12.8/12.8 MB\u001b[0m \u001b[31m13.6 MB/s\u001b[0m eta \u001b[36m0:00:00\u001b[0m00:01\u001b[0m00:01\u001b[0m\n",
      "\u001b[?25hRequirement already satisfied: spacy<3.8.0,>=3.7.2 in /Users/huangyuxin/anaconda3/lib/python3.11/site-packages (from en-core-web-sm==3.7.1) (3.7.2)\n",
      "Requirement already satisfied: spacy-legacy<3.1.0,>=3.0.11 in /Users/huangyuxin/anaconda3/lib/python3.11/site-packages (from spacy<3.8.0,>=3.7.2->en-core-web-sm==3.7.1) (3.0.12)\n",
      "Requirement already satisfied: spacy-loggers<2.0.0,>=1.0.0 in /Users/huangyuxin/anaconda3/lib/python3.11/site-packages (from spacy<3.8.0,>=3.7.2->en-core-web-sm==3.7.1) (1.0.5)\n",
      "Requirement already satisfied: murmurhash<1.1.0,>=0.28.0 in /Users/huangyuxin/anaconda3/lib/python3.11/site-packages (from spacy<3.8.0,>=3.7.2->en-core-web-sm==3.7.1) (1.0.10)\n",
      "Requirement already satisfied: cymem<2.1.0,>=2.0.2 in /Users/huangyuxin/anaconda3/lib/python3.11/site-packages (from spacy<3.8.0,>=3.7.2->en-core-web-sm==3.7.1) (2.0.8)\n",
      "Requirement already satisfied: preshed<3.1.0,>=3.0.2 in /Users/huangyuxin/anaconda3/lib/python3.11/site-packages (from spacy<3.8.0,>=3.7.2->en-core-web-sm==3.7.1) (3.0.9)\n",
      "Requirement already satisfied: thinc<8.3.0,>=8.1.8 in /Users/huangyuxin/anaconda3/lib/python3.11/site-packages (from spacy<3.8.0,>=3.7.2->en-core-web-sm==3.7.1) (8.2.1)\n",
      "Requirement already satisfied: wasabi<1.2.0,>=0.9.1 in /Users/huangyuxin/anaconda3/lib/python3.11/site-packages (from spacy<3.8.0,>=3.7.2->en-core-web-sm==3.7.1) (1.1.2)\n",
      "Requirement already satisfied: srsly<3.0.0,>=2.4.3 in /Users/huangyuxin/anaconda3/lib/python3.11/site-packages (from spacy<3.8.0,>=3.7.2->en-core-web-sm==3.7.1) (2.4.8)\n",
      "Requirement already satisfied: catalogue<2.1.0,>=2.0.6 in /Users/huangyuxin/anaconda3/lib/python3.11/site-packages (from spacy<3.8.0,>=3.7.2->en-core-web-sm==3.7.1) (2.0.10)\n",
      "Requirement already satisfied: weasel<0.4.0,>=0.1.0 in /Users/huangyuxin/anaconda3/lib/python3.11/site-packages (from spacy<3.8.0,>=3.7.2->en-core-web-sm==3.7.1) (0.3.4)\n",
      "Requirement already satisfied: typer<0.10.0,>=0.3.0 in /Users/huangyuxin/anaconda3/lib/python3.11/site-packages (from spacy<3.8.0,>=3.7.2->en-core-web-sm==3.7.1) (0.9.0)\n",
      "Requirement already satisfied: smart-open<7.0.0,>=5.2.1 in /Users/huangyuxin/anaconda3/lib/python3.11/site-packages (from spacy<3.8.0,>=3.7.2->en-core-web-sm==3.7.1) (5.2.1)\n",
      "Requirement already satisfied: tqdm<5.0.0,>=4.38.0 in /Users/huangyuxin/anaconda3/lib/python3.11/site-packages (from spacy<3.8.0,>=3.7.2->en-core-web-sm==3.7.1) (4.65.0)\n",
      "Requirement already satisfied: requests<3.0.0,>=2.13.0 in /Users/huangyuxin/anaconda3/lib/python3.11/site-packages (from spacy<3.8.0,>=3.7.2->en-core-web-sm==3.7.1) (2.31.0)\n",
      "Requirement already satisfied: pydantic!=1.8,!=1.8.1,<3.0.0,>=1.7.4 in /Users/huangyuxin/anaconda3/lib/python3.11/site-packages (from spacy<3.8.0,>=3.7.2->en-core-web-sm==3.7.1) (2.5.2)\n",
      "Requirement already satisfied: jinja2 in /Users/huangyuxin/anaconda3/lib/python3.11/site-packages (from spacy<3.8.0,>=3.7.2->en-core-web-sm==3.7.1) (3.1.2)\n",
      "Requirement already satisfied: setuptools in /Users/huangyuxin/anaconda3/lib/python3.11/site-packages (from spacy<3.8.0,>=3.7.2->en-core-web-sm==3.7.1) (68.0.0)\n",
      "Requirement already satisfied: packaging>=20.0 in /Users/huangyuxin/anaconda3/lib/python3.11/site-packages (from spacy<3.8.0,>=3.7.2->en-core-web-sm==3.7.1) (23.0)\n",
      "Requirement already satisfied: langcodes<4.0.0,>=3.2.0 in /Users/huangyuxin/anaconda3/lib/python3.11/site-packages (from spacy<3.8.0,>=3.7.2->en-core-web-sm==3.7.1) (3.3.0)\n",
      "Requirement already satisfied: numpy>=1.19.0 in /Users/huangyuxin/anaconda3/lib/python3.11/site-packages (from spacy<3.8.0,>=3.7.2->en-core-web-sm==3.7.1) (1.24.3)\n",
      "Requirement already satisfied: annotated-types>=0.4.0 in /Users/huangyuxin/anaconda3/lib/python3.11/site-packages (from pydantic!=1.8,!=1.8.1,<3.0.0,>=1.7.4->spacy<3.8.0,>=3.7.2->en-core-web-sm==3.7.1) (0.6.0)\n",
      "Requirement already satisfied: pydantic-core==2.14.5 in /Users/huangyuxin/anaconda3/lib/python3.11/site-packages (from pydantic!=1.8,!=1.8.1,<3.0.0,>=1.7.4->spacy<3.8.0,>=3.7.2->en-core-web-sm==3.7.1) (2.14.5)\n",
      "Requirement already satisfied: typing-extensions>=4.6.1 in /Users/huangyuxin/anaconda3/lib/python3.11/site-packages (from pydantic!=1.8,!=1.8.1,<3.0.0,>=1.7.4->spacy<3.8.0,>=3.7.2->en-core-web-sm==3.7.1) (4.7.1)\n",
      "Requirement already satisfied: charset-normalizer<4,>=2 in /Users/huangyuxin/anaconda3/lib/python3.11/site-packages (from requests<3.0.0,>=2.13.0->spacy<3.8.0,>=3.7.2->en-core-web-sm==3.7.1) (2.0.4)\n",
      "Requirement already satisfied: idna<4,>=2.5 in /Users/huangyuxin/anaconda3/lib/python3.11/site-packages (from requests<3.0.0,>=2.13.0->spacy<3.8.0,>=3.7.2->en-core-web-sm==3.7.1) (3.4)\n",
      "Requirement already satisfied: urllib3<3,>=1.21.1 in /Users/huangyuxin/anaconda3/lib/python3.11/site-packages (from requests<3.0.0,>=2.13.0->spacy<3.8.0,>=3.7.2->en-core-web-sm==3.7.1) (1.26.16)\n",
      "Requirement already satisfied: certifi>=2017.4.17 in /Users/huangyuxin/anaconda3/lib/python3.11/site-packages (from requests<3.0.0,>=2.13.0->spacy<3.8.0,>=3.7.2->en-core-web-sm==3.7.1) (2023.7.22)\n",
      "Requirement already satisfied: blis<0.8.0,>=0.7.8 in /Users/huangyuxin/anaconda3/lib/python3.11/site-packages (from thinc<8.3.0,>=8.1.8->spacy<3.8.0,>=3.7.2->en-core-web-sm==3.7.1) (0.7.11)\n",
      "Requirement already satisfied: confection<1.0.0,>=0.0.1 in /Users/huangyuxin/anaconda3/lib/python3.11/site-packages (from thinc<8.3.0,>=8.1.8->spacy<3.8.0,>=3.7.2->en-core-web-sm==3.7.1) (0.1.4)\n",
      "Requirement already satisfied: click<9.0.0,>=7.1.1 in /Users/huangyuxin/anaconda3/lib/python3.11/site-packages (from typer<0.10.0,>=0.3.0->spacy<3.8.0,>=3.7.2->en-core-web-sm==3.7.1) (8.0.4)\n",
      "Requirement already satisfied: cloudpathlib<0.17.0,>=0.7.0 in /Users/huangyuxin/anaconda3/lib/python3.11/site-packages (from weasel<0.4.0,>=0.1.0->spacy<3.8.0,>=3.7.2->en-core-web-sm==3.7.1) (0.16.0)\n",
      "Requirement already satisfied: MarkupSafe>=2.0 in /Users/huangyuxin/anaconda3/lib/python3.11/site-packages (from jinja2->spacy<3.8.0,>=3.7.2->en-core-web-sm==3.7.1) (2.1.1)\n",
      "\u001b[38;5;2m✔ Download and installation successful\u001b[0m\n",
      "You can now load the package via spacy.load('en_core_web_sm')\n"
     ]
    }
   ],
   "source": [
    "# Import spacy\n",
    "import spacy\n",
    "\n",
    "# Install English language model\n",
    "!spacy download en_core_web_sm\n",
    "\n",
    "# Import os to upload documents and metadata\n",
    "import os\n",
    "\n",
    "# Load spaCy visualizer\n",
    "from spacy import displacy\n",
    "\n",
    "# Import pandas DataFrame packages\n",
    "import pandas as pd\n",
    "pd.options.mode.chained_assignment = None  # default='warn'\n",
    "\n",
    "# Import graphing package\n",
    "import plotly.graph_objects as go\n",
    "import plotly.express as px"
   ]
  },
  {
   "cell_type": "code",
   "execution_count": 52,
   "id": "b03e5999",
   "metadata": {},
   "outputs": [],
   "source": [
    "#Create empty lists for file names and contents\n",
    "texts = []\n",
    "file_names = []\n",
    "\n",
    "# Iterate through each file in the folder\n",
    "for _file_name in os.listdir('txt_files'):\n",
    "# Look for only text files\n",
    "    if _file_name.endswith('.txt'):\n",
    "    # Append contents of each text file to text list\n",
    "        texts.append(open('txt_files' + '/' + _file_name, 'r',encoding='utf-8').read())\n",
    "        # Append name of each file to file name list\n",
    "        file_names.append(_file_name)"
   ]
  },
  {
   "cell_type": "code",
   "execution_count": 53,
   "id": "bfb175df",
   "metadata": {},
   "outputs": [],
   "source": [
    "# Create dictionary object associating each file name with its text\n",
    "d = {'Filename':file_names,'Text':texts}"
   ]
  },
  {
   "cell_type": "code",
   "execution_count": 54,
   "id": "09dda2bd",
   "metadata": {},
   "outputs": [],
   "source": [
    "# Turn dictionary into a dataframe\n",
    "paper_df = pd.DataFrame(d)"
   ]
  },
  {
   "cell_type": "code",
   "execution_count": 55,
   "id": "aa3b8d9a",
   "metadata": {},
   "outputs": [
    {
     "data": {
      "text/html": [
       "<div>\n",
       "<style scoped>\n",
       "    .dataframe tbody tr th:only-of-type {\n",
       "        vertical-align: middle;\n",
       "    }\n",
       "\n",
       "    .dataframe tbody tr th {\n",
       "        vertical-align: top;\n",
       "    }\n",
       "\n",
       "    .dataframe thead th {\n",
       "        text-align: right;\n",
       "    }\n",
       "</style>\n",
       "<table border=\"1\" class=\"dataframe\">\n",
       "  <thead>\n",
       "    <tr style=\"text-align: right;\">\n",
       "      <th></th>\n",
       "      <th>Filename</th>\n",
       "      <th>Text</th>\n",
       "    </tr>\n",
       "  </thead>\n",
       "  <tbody>\n",
       "    <tr>\n",
       "      <th>0</th>\n",
       "      <td>BBC-Gansu1.txt</td>\n",
       "      <td>Rescuers search for survivors as China earthqu...</td>\n",
       "    </tr>\n",
       "    <tr>\n",
       "      <th>1</th>\n",
       "      <td>BBC-Gansu2.txt</td>\n",
       "      <td>Gansu earthquake: Over 120 killed in China's d...</td>\n",
       "    </tr>\n",
       "    <tr>\n",
       "      <th>2</th>\n",
       "      <td>BBC-Gansu3.txt</td>\n",
       "      <td>Gansu earthquake: Authorities nearing end of r...</td>\n",
       "    </tr>\n",
       "  </tbody>\n",
       "</table>\n",
       "</div>"
      ],
      "text/plain": [
       "         Filename                                               Text\n",
       "0  BBC-Gansu1.txt  Rescuers search for survivors as China earthqu...\n",
       "1  BBC-Gansu2.txt  Gansu earthquake: Over 120 killed in China's d...\n",
       "2  BBC-Gansu3.txt  Gansu earthquake: Authorities nearing end of r..."
      ]
     },
     "execution_count": 55,
     "metadata": {},
     "output_type": "execute_result"
    }
   ],
   "source": [
    "paper_df.head()"
   ]
  },
  {
   "cell_type": "code",
   "execution_count": 56,
   "id": "0778ff95",
   "metadata": {},
   "outputs": [
    {
     "data": {
      "text/html": [
       "<div>\n",
       "<style scoped>\n",
       "    .dataframe tbody tr th:only-of-type {\n",
       "        vertical-align: middle;\n",
       "    }\n",
       "\n",
       "    .dataframe tbody tr th {\n",
       "        vertical-align: top;\n",
       "    }\n",
       "\n",
       "    .dataframe thead th {\n",
       "        text-align: right;\n",
       "    }\n",
       "</style>\n",
       "<table border=\"1\" class=\"dataframe\">\n",
       "  <thead>\n",
       "    <tr style=\"text-align: right;\">\n",
       "      <th></th>\n",
       "      <th>Filename</th>\n",
       "      <th>Text</th>\n",
       "    </tr>\n",
       "  </thead>\n",
       "  <tbody>\n",
       "    <tr>\n",
       "      <th>0</th>\n",
       "      <td>BBC-Gansu1.txt</td>\n",
       "      <td>Rescuers search for survivors as China earthqu...</td>\n",
       "    </tr>\n",
       "    <tr>\n",
       "      <th>1</th>\n",
       "      <td>BBC-Gansu2.txt</td>\n",
       "      <td>Gansu earthquake: Over 120 killed in China's d...</td>\n",
       "    </tr>\n",
       "    <tr>\n",
       "      <th>2</th>\n",
       "      <td>BBC-Gansu3.txt</td>\n",
       "      <td>Gansu earthquake: Authorities nearing end of r...</td>\n",
       "    </tr>\n",
       "  </tbody>\n",
       "</table>\n",
       "</div>"
      ],
      "text/plain": [
       "         Filename                                               Text\n",
       "0  BBC-Gansu1.txt  Rescuers search for survivors as China earthqu...\n",
       "1  BBC-Gansu2.txt  Gansu earthquake: Over 120 killed in China's d...\n",
       "2  BBC-Gansu3.txt  Gansu earthquake: Authorities nearing end of r..."
      ]
     },
     "execution_count": 56,
     "metadata": {},
     "output_type": "execute_result"
    }
   ],
   "source": [
    "# Remove extra spaces from papers\n",
    "paper_df['Text'] = paper_df['Text'].str.replace('\\s+', ' ', regex=True).str.strip()\n",
    "paper_df.head()"
   ]
  },
  {
   "cell_type": "code",
   "execution_count": 57,
   "id": "1bbffe37",
   "metadata": {},
   "outputs": [
    {
     "data": {
      "text/html": [
       "<div>\n",
       "<style scoped>\n",
       "    .dataframe tbody tr th:only-of-type {\n",
       "        vertical-align: middle;\n",
       "    }\n",
       "\n",
       "    .dataframe tbody tr th {\n",
       "        vertical-align: top;\n",
       "    }\n",
       "\n",
       "    .dataframe thead th {\n",
       "        text-align: right;\n",
       "    }\n",
       "</style>\n",
       "<table border=\"1\" class=\"dataframe\">\n",
       "  <thead>\n",
       "    <tr style=\"text-align: right;\">\n",
       "      <th></th>\n",
       "      <th>NewsID</th>\n",
       "      <th>PublishedDate</th>\n",
       "      <th>Author</th>\n",
       "      <th>title</th>\n",
       "      <th>Authority</th>\n",
       "    </tr>\n",
       "  </thead>\n",
       "  <tbody>\n",
       "    <tr>\n",
       "      <th>0</th>\n",
       "      <td>BBC-Gansu1</td>\n",
       "      <td>2023/12/19</td>\n",
       "      <td>UNKNOWN</td>\n",
       "      <td>Rescuers search for survivors as China earthqu...</td>\n",
       "      <td>BBC NEWS</td>\n",
       "    </tr>\n",
       "    <tr>\n",
       "      <th>1</th>\n",
       "      <td>BBC-Gansu2</td>\n",
       "      <td>2023/12/19</td>\n",
       "      <td>Frances Mao &amp; Christy Cooney</td>\n",
       "      <td>Gansu earthquake- Over 120 killed in China's d...</td>\n",
       "      <td>BBC NEWS</td>\n",
       "    </tr>\n",
       "    <tr>\n",
       "      <th>2</th>\n",
       "      <td>BBC-Gansu3</td>\n",
       "      <td>2023/12/20</td>\n",
       "      <td>Frances Mao</td>\n",
       "      <td>Gansu earthquake- Authorities nearing end of r...</td>\n",
       "      <td>BBC NEWS</td>\n",
       "    </tr>\n",
       "  </tbody>\n",
       "</table>\n",
       "</div>"
      ],
      "text/plain": [
       "       NewsID PublishedDate                        Author  \\\n",
       "0  BBC-Gansu1    2023/12/19                       UNKNOWN   \n",
       "1  BBC-Gansu2    2023/12/19  Frances Mao & Christy Cooney   \n",
       "2  BBC-Gansu3    2023/12/20                   Frances Mao   \n",
       "\n",
       "                                               title Authority  \n",
       "0  Rescuers search for survivors as China earthqu...  BBC NEWS  \n",
       "1  Gansu earthquake- Over 120 killed in China's d...  BBC NEWS  \n",
       "2  Gansu earthquake- Authorities nearing end of r...  BBC NEWS  "
      ]
     },
     "execution_count": 57,
     "metadata": {},
     "output_type": "execute_result"
    }
   ],
   "source": [
    "# Load metadata.\n",
    "metadata_df = pd.read_csv('metadata.csv')\n",
    "metadata_df.head()"
   ]
  },
  {
   "cell_type": "code",
   "execution_count": 62,
   "id": "a349b823",
   "metadata": {},
   "outputs": [],
   "source": [
    "# Remove .txt from title of each paper\n",
    "paper_df['Filename'] = paper_df['Filename'].str.replace('.txt', '', regex=True)\n",
    "# Rename column from  NewsID to Title\n",
    "metadata_df.rename(columns={\"NewsID\": \"Filename\"}, inplace=True)"
   ]
  },
  {
   "cell_type": "code",
   "execution_count": 63,
   "id": "cf305b27",
   "metadata": {},
   "outputs": [],
   "source": [
    "final_paper_df = metadata_df.merge(paper_df,on='Filename')"
   ]
  },
  {
   "cell_type": "code",
   "execution_count": 64,
   "id": "a6246d84",
   "metadata": {},
   "outputs": [
    {
     "data": {
      "text/html": [
       "<div>\n",
       "<style scoped>\n",
       "    .dataframe tbody tr th:only-of-type {\n",
       "        vertical-align: middle;\n",
       "    }\n",
       "\n",
       "    .dataframe tbody tr th {\n",
       "        vertical-align: top;\n",
       "    }\n",
       "\n",
       "    .dataframe thead th {\n",
       "        text-align: right;\n",
       "    }\n",
       "</style>\n",
       "<table border=\"1\" class=\"dataframe\">\n",
       "  <thead>\n",
       "    <tr style=\"text-align: right;\">\n",
       "      <th></th>\n",
       "      <th>Filename</th>\n",
       "      <th>PublishedDate</th>\n",
       "      <th>Author</th>\n",
       "      <th>title</th>\n",
       "      <th>Authority</th>\n",
       "      <th>Text</th>\n",
       "    </tr>\n",
       "  </thead>\n",
       "  <tbody>\n",
       "    <tr>\n",
       "      <th>0</th>\n",
       "      <td>BBC-Gansu1</td>\n",
       "      <td>2023/12/19</td>\n",
       "      <td>UNKNOWN</td>\n",
       "      <td>Rescuers search for survivors as China earthqu...</td>\n",
       "      <td>BBC NEWS</td>\n",
       "      <td>Rescuers search for survivors as China earthqu...</td>\n",
       "    </tr>\n",
       "    <tr>\n",
       "      <th>1</th>\n",
       "      <td>BBC-Gansu2</td>\n",
       "      <td>2023/12/19</td>\n",
       "      <td>Frances Mao &amp; Christy Cooney</td>\n",
       "      <td>Gansu earthquake- Over 120 killed in China's d...</td>\n",
       "      <td>BBC NEWS</td>\n",
       "      <td>Gansu earthquake: Over 120 killed in China's d...</td>\n",
       "    </tr>\n",
       "    <tr>\n",
       "      <th>2</th>\n",
       "      <td>BBC-Gansu3</td>\n",
       "      <td>2023/12/20</td>\n",
       "      <td>Frances Mao</td>\n",
       "      <td>Gansu earthquake- Authorities nearing end of r...</td>\n",
       "      <td>BBC NEWS</td>\n",
       "      <td>Gansu earthquake: Authorities nearing end of r...</td>\n",
       "    </tr>\n",
       "  </tbody>\n",
       "</table>\n",
       "</div>"
      ],
      "text/plain": [
       "     Filename PublishedDate                        Author  \\\n",
       "0  BBC-Gansu1    2023/12/19                       UNKNOWN   \n",
       "1  BBC-Gansu2    2023/12/19  Frances Mao & Christy Cooney   \n",
       "2  BBC-Gansu3    2023/12/20                   Frances Mao   \n",
       "\n",
       "                                               title Authority  \\\n",
       "0  Rescuers search for survivors as China earthqu...  BBC NEWS   \n",
       "1  Gansu earthquake- Over 120 killed in China's d...  BBC NEWS   \n",
       "2  Gansu earthquake- Authorities nearing end of r...  BBC NEWS   \n",
       "\n",
       "                                                Text  \n",
       "0  Rescuers search for survivors as China earthqu...  \n",
       "1  Gansu earthquake: Over 120 killed in China's d...  \n",
       "2  Gansu earthquake: Authorities nearing end of r...  "
      ]
     },
     "execution_count": 64,
     "metadata": {},
     "output_type": "execute_result"
    }
   ],
   "source": [
    "# Print DataFrame\n",
    "final_paper_df.head()"
   ]
  },
  {
   "cell_type": "code",
   "execution_count": 65,
   "id": "8c6eb318",
   "metadata": {},
   "outputs": [
    {
     "data": {
      "text/plain": [
       "(3, 6)"
      ]
     },
     "execution_count": 65,
     "metadata": {},
     "output_type": "execute_result"
    }
   ],
   "source": [
    "final_paper_df.shape"
   ]
  },
  {
   "cell_type": "code",
   "execution_count": 66,
   "id": "7765a955",
   "metadata": {},
   "outputs": [
    {
     "name": "stdout",
     "output_type": "stream",
     "text": [
      "['tok2vec', 'tagger', 'parser', 'attribute_ruler', 'lemmatizer', 'ner']\n"
     ]
    }
   ],
   "source": [
    "# Load nlp pipeline\n",
    "nlp = spacy.load('en_core_web_sm')\n",
    "\n",
    "# Check what functions it performs\n",
    "print(nlp.pipe_names)"
   ]
  },
  {
   "cell_type": "code",
   "execution_count": 67,
   "id": "f58ca434",
   "metadata": {},
   "outputs": [],
   "source": [
    "#Define example sentence\n",
    "sentence = \"This is 'an' example? sentence\"\n",
    "\n",
    "# Call the nlp model on the sentence\n",
    "doc = nlp(sentence)"
   ]
  },
  {
   "cell_type": "code",
   "execution_count": 68,
   "id": "c156eb4c",
   "metadata": {},
   "outputs": [
    {
     "name": "stdout",
     "output_type": "stream",
     "text": [
      "This PRON\n",
      "is AUX\n",
      "' PUNCT\n",
      "an DET\n",
      "' PUNCT\n",
      "example NOUN\n",
      "? PUNCT\n",
      "sentence NOUN\n"
     ]
    }
   ],
   "source": [
    "# Loop through each token in doc object\n",
    "for token in doc:\n",
    "    # Print text and part of speech for each\n",
    "    print(token.text, token.pos_)"
   ]
  },
  {
   "cell_type": "code",
   "execution_count": 69,
   "id": "2f4fa240",
   "metadata": {},
   "outputs": [],
   "source": [
    "# Define a function that runs the nlp pipeline on any given input text\n",
    "def process_text(text):\n",
    "    return nlp(text)"
   ]
  },
  {
   "cell_type": "code",
   "execution_count": 70,
   "id": "ca981716",
   "metadata": {},
   "outputs": [],
   "source": [
    "# Apply the function to the \"Text\" column, so that the nlp pipeline is called on each student essay\n",
    "final_paper_df['Doc'] = final_paper_df['Text'].apply(process_text)"
   ]
  },
  {
   "cell_type": "code",
   "execution_count": 71,
   "id": "46b220f7",
   "metadata": {},
   "outputs": [],
   "source": [
    "# Define a function to retrieve tokens from a doc object\n",
    "def get_token(doc):\n",
    "    return [(token.text) for token in doc]"
   ]
  },
  {
   "cell_type": "code",
   "execution_count": 72,
   "id": "1de2a4db",
   "metadata": {},
   "outputs": [
    {
     "data": {
      "text/html": [
       "<div>\n",
       "<style scoped>\n",
       "    .dataframe tbody tr th:only-of-type {\n",
       "        vertical-align: middle;\n",
       "    }\n",
       "\n",
       "    .dataframe tbody tr th {\n",
       "        vertical-align: top;\n",
       "    }\n",
       "\n",
       "    .dataframe thead th {\n",
       "        text-align: right;\n",
       "    }\n",
       "</style>\n",
       "<table border=\"1\" class=\"dataframe\">\n",
       "  <thead>\n",
       "    <tr style=\"text-align: right;\">\n",
       "      <th></th>\n",
       "      <th>Filename</th>\n",
       "      <th>PublishedDate</th>\n",
       "      <th>Author</th>\n",
       "      <th>title</th>\n",
       "      <th>Authority</th>\n",
       "      <th>Text</th>\n",
       "      <th>Doc</th>\n",
       "      <th>Tokens</th>\n",
       "    </tr>\n",
       "  </thead>\n",
       "  <tbody>\n",
       "    <tr>\n",
       "      <th>0</th>\n",
       "      <td>BBC-Gansu1</td>\n",
       "      <td>2023/12/19</td>\n",
       "      <td>UNKNOWN</td>\n",
       "      <td>Rescuers search for survivors as China earthqu...</td>\n",
       "      <td>BBC NEWS</td>\n",
       "      <td>Rescuers search for survivors as China earthqu...</td>\n",
       "      <td>(Rescuers, search, for, survivors, as, China, ...</td>\n",
       "      <td>[Rescuers, search, for, survivors, as, China, ...</td>\n",
       "    </tr>\n",
       "    <tr>\n",
       "      <th>1</th>\n",
       "      <td>BBC-Gansu2</td>\n",
       "      <td>2023/12/19</td>\n",
       "      <td>Frances Mao &amp; Christy Cooney</td>\n",
       "      <td>Gansu earthquake- Over 120 killed in China's d...</td>\n",
       "      <td>BBC NEWS</td>\n",
       "      <td>Gansu earthquake: Over 120 killed in China's d...</td>\n",
       "      <td>(Gansu, earthquake, :, Over, 120, killed, in, ...</td>\n",
       "      <td>[Gansu, earthquake, :, Over, 120, killed, in, ...</td>\n",
       "    </tr>\n",
       "    <tr>\n",
       "      <th>2</th>\n",
       "      <td>BBC-Gansu3</td>\n",
       "      <td>2023/12/20</td>\n",
       "      <td>Frances Mao</td>\n",
       "      <td>Gansu earthquake- Authorities nearing end of r...</td>\n",
       "      <td>BBC NEWS</td>\n",
       "      <td>Gansu earthquake: Authorities nearing end of r...</td>\n",
       "      <td>(Gansu, earthquake, :, Authorities, nearing, e...</td>\n",
       "      <td>[Gansu, earthquake, :, Authorities, nearing, e...</td>\n",
       "    </tr>\n",
       "  </tbody>\n",
       "</table>\n",
       "</div>"
      ],
      "text/plain": [
       "     Filename PublishedDate                        Author  \\\n",
       "0  BBC-Gansu1    2023/12/19                       UNKNOWN   \n",
       "1  BBC-Gansu2    2023/12/19  Frances Mao & Christy Cooney   \n",
       "2  BBC-Gansu3    2023/12/20                   Frances Mao   \n",
       "\n",
       "                                               title Authority  \\\n",
       "0  Rescuers search for survivors as China earthqu...  BBC NEWS   \n",
       "1  Gansu earthquake- Over 120 killed in China's d...  BBC NEWS   \n",
       "2  Gansu earthquake- Authorities nearing end of r...  BBC NEWS   \n",
       "\n",
       "                                                Text  \\\n",
       "0  Rescuers search for survivors as China earthqu...   \n",
       "1  Gansu earthquake: Over 120 killed in China's d...   \n",
       "2  Gansu earthquake: Authorities nearing end of r...   \n",
       "\n",
       "                                                 Doc  \\\n",
       "0  (Rescuers, search, for, survivors, as, China, ...   \n",
       "1  (Gansu, earthquake, :, Over, 120, killed, in, ...   \n",
       "2  (Gansu, earthquake, :, Authorities, nearing, e...   \n",
       "\n",
       "                                              Tokens  \n",
       "0  [Rescuers, search, for, survivors, as, China, ...  \n",
       "1  [Gansu, earthquake, :, Over, 120, killed, in, ...  \n",
       "2  [Gansu, earthquake, :, Authorities, nearing, e...  "
      ]
     },
     "execution_count": 72,
     "metadata": {},
     "output_type": "execute_result"
    }
   ],
   "source": [
    "# Run the token retrieval function on the doc objects in the dataframe\n",
    "final_paper_df['Tokens'] = final_paper_df['Doc'].apply(get_token)\n",
    "final_paper_df.head()"
   ]
  },
  {
   "cell_type": "code",
   "execution_count": 80,
   "id": "0baa14ff",
   "metadata": {},
   "outputs": [
    {
     "data": {
      "text/html": [
       "<div>\n",
       "<style scoped>\n",
       "    .dataframe tbody tr th:only-of-type {\n",
       "        vertical-align: middle;\n",
       "    }\n",
       "\n",
       "    .dataframe tbody tr th {\n",
       "        vertical-align: top;\n",
       "    }\n",
       "\n",
       "    .dataframe thead th {\n",
       "        text-align: right;\n",
       "    }\n",
       "</style>\n",
       "<table border=\"1\" class=\"dataframe\">\n",
       "  <thead>\n",
       "    <tr style=\"text-align: right;\">\n",
       "      <th></th>\n",
       "      <th>Text</th>\n",
       "      <th>Tokens</th>\n",
       "    </tr>\n",
       "  </thead>\n",
       "  <tbody>\n",
       "    <tr>\n",
       "      <th>0</th>\n",
       "      <td>Rescuers search for survivors as China earthqu...</td>\n",
       "      <td>[Rescuers, search, for, survivors, as, China, ...</td>\n",
       "    </tr>\n",
       "    <tr>\n",
       "      <th>1</th>\n",
       "      <td>Gansu earthquake: Over 120 killed in China's d...</td>\n",
       "      <td>[Gansu, earthquake, :, Over, 120, killed, in, ...</td>\n",
       "    </tr>\n",
       "    <tr>\n",
       "      <th>2</th>\n",
       "      <td>Gansu earthquake: Authorities nearing end of r...</td>\n",
       "      <td>[Gansu, earthquake, :, Authorities, nearing, e...</td>\n",
       "    </tr>\n",
       "  </tbody>\n",
       "</table>\n",
       "</div>"
      ],
      "text/plain": [
       "                                                Text  \\\n",
       "0  Rescuers search for survivors as China earthqu...   \n",
       "1  Gansu earthquake: Over 120 killed in China's d...   \n",
       "2  Gansu earthquake: Authorities nearing end of r...   \n",
       "\n",
       "                                              Tokens  \n",
       "0  [Rescuers, search, for, survivors, as, China, ...  \n",
       "1  [Gansu, earthquake, :, Over, 120, killed, in, ...  \n",
       "2  [Gansu, earthquake, :, Authorities, nearing, e...  "
      ]
     },
     "execution_count": 80,
     "metadata": {},
     "output_type": "execute_result"
    }
   ],
   "source": [
    "tokens = final_paper_df[['Text', 'Tokens']].copy()\n",
    "tokens.head()"
   ]
  },
  {
   "cell_type": "code",
   "execution_count": 81,
   "id": "bfd23ee1",
   "metadata": {},
   "outputs": [
    {
     "name": "stdout",
     "output_type": "stream",
     "text": [
      "CARDINAL : Numerals that do not fall under another type\n",
      "DATE : Absolute or relative dates or periods\n",
      "EVENT : Named hurricanes, battles, wars, sports events, etc.\n",
      "FAC : Buildings, airports, highways, bridges, etc.\n",
      "GPE : Countries, cities, states\n",
      "LANGUAGE : Any named language\n",
      "LAW : Named documents made into laws.\n",
      "LOC : Non-GPE locations, mountain ranges, bodies of water\n",
      "MONEY : Monetary values, including unit\n",
      "NORP : Nationalities or religious or political groups\n",
      "ORDINAL : \"first\", \"second\", etc.\n",
      "ORG : Companies, agencies, institutions, etc.\n",
      "PERCENT : Percentage, including \"%\"\n",
      "PERSON : People, including fictional\n",
      "PRODUCT : Objects, vehicles, foods, etc. (not services)\n",
      "QUANTITY : Measurements, as of weight or distance\n",
      "TIME : Times smaller than a day\n",
      "WORK_OF_ART : Titles of books, songs, etc.\n"
     ]
    }
   ],
   "source": [
    "# Get all NE labels and assign to variable\n",
    "labels = nlp.get_pipe(\"ner\").labels\n",
    "\n",
    "# Print each label and its description\n",
    "for label in labels:\n",
    "    print(label + ' : ' + spacy.explain(label))"
   ]
  },
  {
   "cell_type": "code",
   "execution_count": 82,
   "id": "462f58a3",
   "metadata": {},
   "outputs": [],
   "source": [
    "entities = []\n",
    "for doc in final_paper_df['Doc']:\n",
    "    entities.append([(ent.text, ent.label_) for ent in doc.ents])\n",
    "\n",
    "final_paper_df['Entities'] = entities"
   ]
  },
  {
   "cell_type": "code",
   "execution_count": 83,
   "id": "51fe6693",
   "metadata": {},
   "outputs": [],
   "source": [
    "from vaderSentiment.vaderSentiment import SentimentIntensityAnalyzer\n",
    "\n",
    "analyzer = SentimentIntensityAnalyzer()\n",
    "\n",
    "# Calculate sentiment scores for each article\n",
    "sentiment_scores = final_paper_df['Text'].apply(lambda x: analyzer.polarity_scores(x))\n",
    "final_paper_df['Sentiment'] = sentiment_scores"
   ]
  },
  {
   "cell_type": "code",
   "execution_count": 84,
   "id": "e37e6d76",
   "metadata": {},
   "outputs": [
    {
     "data": {
      "image/png": "[encoded data removed]",
      "text/plain": [
       "<Figure size 640x480 with 1 Axes>"
      ]
     },
     "metadata": {},
     "output_type": "display_data"
    }
   ],
   "source": [
    "import matplotlib.pyplot as plt\n",
    "\n",
    "# Plotting sentiment distribution\n",
    "plt.bar(final_paper_df.index, final_paper_df['Sentiment'].apply(lambda x: x['compound']))\n",
    "plt.xlabel('Article Index')\n",
    "plt.ylabel('Sentiment Score (Compound)')\n",
    "plt.title('Sentiment Distribution of Articles')\n",
    "plt.show()"
   ]
  },
  {
   "cell_type": "code",
   "execution_count": 85,
   "id": "85140204",
   "metadata": {},
   "outputs": [
    {
     "name": "stdout",
     "output_type": "stream",
     "text": [
      "Article 1 Entities: [('China', 'GPE'), ('100', 'CARDINAL'), ('December 2023', 'DATE'), ('At least 111', 'CARDINAL'), ('more than 250', 'CARDINAL'), ('5.9', 'CARDINAL'), ('Gansu', 'GPE'), ('north-west', 'GPE'), ('China', 'GPE'), ('China', 'GPE'), ('Xi Jinping', 'PERSON'), ('second', 'ORDINAL'), ('Xinjiang', 'GPE')]\n",
      "Context: Rescuers search for survivors as China earthquake kills 100 19 December 2023 Summary * At least 111 people have been killed and more than 250 injured in the 5.9 magnitude quake that struck rural Gansu province in north-west China * Rescuers are braving freezing weather - with temperatures below -13C - to search for survivors * The government has dispatched teams of rescue workers to assist local emergency crews * China's leader Xi Jinping has ordered full rescue efforts * Power and water supplies have been disrupted in parts of the region * A second quake has been reported in Xinjiang province\n",
      "\n",
      "Article 2 Entities: [('Gansu', 'GPE'), ('China', 'GPE'), ('19 December 2023', 'DATE'), ('At least 127', 'CARDINAL'), ('China', 'GPE'), ('years', 'DATE'), ('6.2', 'CARDINAL'), ('Gansu', 'GPE'), ('midnight', 'TIME'), ('Monday', 'DATE'), ('GMT', 'ORG'), ('Qinghai', 'GPE'), ('more than 700', 'CARDINAL'), ('Chinese', 'NORP'), ('Xi Jinping', 'PERSON'), ('thousands', 'CARDINAL'), ('China', 'GPE'), ('2014', 'DATE'), ('more than 600', 'CARDINAL'), ('Yunnan', 'GPE'), ('Tuesday', 'DATE'), ('8.7F', 'CARDINAL'), ('Tuesday', 'DATE'), ('Chinese', 'NORP'), ('16', 'CARDINAL'), ('one', 'CARDINAL'), ('one', 'CARDINAL'), ('Mr Qin', 'PERSON'), ('Chinese', 'NORP'), ('Jishishan county', 'GPE'), ('Gansu', 'GPE'), ('more than 5,000', 'CARDINAL'), ('dozens', 'CARDINAL'), ('Chinese', 'NORP'), ('Gansu', 'GPE'), ('Tibetan', 'NORP'), ('Mongolia', 'GPE'), ('China', 'GPE'), ('Linxia Hui Autonomous Prefecture', 'PERSON'), ('Chinese Muslim', 'NORP'), ('Hui', 'NORP'), ('Dongxiang', 'PERSON'), ('Salar', 'NORP'), ('Chinese', 'NORP'), ('6.2', 'CARDINAL'), ('the US Geological Survey (USGS', 'ORG'), ('5.9', 'CARDINAL'), ('10km (6 miles', 'QUANTITY'), ('About 10', 'CARDINAL'), ('Tuesday', 'DATE'), ('Xinjiang', 'GPE'), ('Gansu', 'GPE'), ('5.5', 'CARDINAL'), ('sub-zero', 'CARDINAL'), ('Wang Yi', 'PERSON'), ('the Blue Sky Rescue Team', 'ORG'), ('BBC', 'ORG'), ('China', 'GPE'), ('more than 30,000', 'CARDINAL'), ('Wang', 'PERSON'), ('Xi', 'PERSON'), ('China', 'GPE'), ('Eurasian', 'NORP'), ('Indian', 'NORP'), ('Pacific', 'LOC'), ('Yushu', 'GPE'), ('Qinghai province', 'GPE'), ('Gansu', 'GPE'), ('almost 2,700', 'CARDINAL'), ('2010', 'DATE'), ('China', 'GPE'), ('recent decades', 'DATE'), ('Sichuan', 'GPE'), ('2008', 'DATE'), ('87,000', 'CARDINAL')]\n",
      "Context: Gansu earthquake: Over 120 killed in China's deadliest quake in yearsBy Frances Mao & Christy CooneyBBC News 19 December 2023 At least 127 people have been killed in north-west China in the country's deadliest earthquake for years. The 6.2 magnitude quake hit mountainous Gansu province around midnight on Monday (16:00 GMT), also shaking neighbouring Qinghai. Fatalities may rise, with more than 700 reported injured in icy conditions. Chinese President Xi Jinping has ordered thousands of rescue crew to the region, among the poorest and most diverse in China. The earthquake is the country's deadliest since 2014, when more than 600 people were killed by a quake in south-western Yunnan province. On Tuesday, footage shown on state TV and social media networks showed entire villages split by the quake, as well as collapsed buildings and houses. Residents who fled their homes were also shown huddling over makeshift fires at hastily erected evacuation camps. Temperatures hit -13C (8.7F) on Tuesday, Chinese media reported. Survivors said the tremors had felt like \"being tossed by surging waves\" and recalled rushing out of their apartments. \"I woke my family up and we rushed down all 16 floors in one breath,\" said one man named Mr Qin by Chinese outlets. Local officials in Jishishan county, the worst-hit in Gansu province, said more than 5,000 buildings in the area had been damaged. Many other buildings in the province have been hit by mudslides triggered by the quake, while dozens of roads have been damaged by landslides. Chinese media quoted a director of the Gansu rescue team, who attributed the widescale damage to poor building quality in the villages - many homes being old and made of clay. Gansu lies between the Tibetan and Loess plateaus and borders Mongolia. The remote region is one of China's poorest and most ethnically diverse. The epicentre of the quake was in Linxia Hui Autonomous Prefecture, home to many Chinese Muslim groups, including the Hui, Bonan, Dongxiang and Salar people. Chinese authorities said the quake measured 6.2 on the Richter scale, while the US Geological Survey (USGS) recorded a magnitude of 5.9 and depth of 10km (6 miles). About 10 aftershocks have taken place, local authorities reported. On Tuesday, Xinjiang, the province west of Gansu, also recorded a 5.5 magnitude quake - but there were no immediate reports of casualties. Across the region, power and water supplies have been disrupted, hindering rescue efforts. Officials say they have limited time left to rescue people in the sub-zero conditions. \"It is too cold to bear... it's -15C [here],\" Wang Yi, chief commander of the Blue Sky Rescue Team, told the BBC. Blue Sky is China's largest non-governmental humanitarian organisation, with more than 30,000 volunteers across the country. Mr Wang said he expected the number of casualties to climb. \"We now need to dig deeper [into the rubble]. But there are no big buildings in the area. So it will rise, but it won't be much,\" he said. President Xi has said \"all efforts should be made to carry out search and rescue, treat the injured in a timely manner, and minimise casualties\". China sits in a region where a number of tectonic plates - notably the Eurasian, Indian and Pacific plates - meet. It is particularly prone to earthquakes. An earthquake in Yushu in Qinghai province, which is next to Gansu, claimed almost 2,700 lives in 2010. China's most devastating earthquake in recent decades was in the south-western province of Sichuan in 2008 when 87,000 people were killed.\n",
      "\n",
      "Article 3 Entities: [('Gansu', 'GPE'), ('more than 130', 'CARDINAL'), ('BBC News', 'ORG'), ('20 December 2023', 'DATE'), ('at least 131', 'CARDINAL'), ('China', 'GPE'), ('Wednesday', 'DATE'), ('6.2', 'CARDINAL'), ('Gansu', 'GPE'), ('Monday night', 'TIME'), ('nearly 1,000', 'CARDINAL'), ('Thousands', 'CARDINAL'), ('sub-zero', 'CARDINAL'), ('8.7F', 'CARDINAL'), ('Tuesday', 'DATE'), ('Chinese', 'NORP'), ('China', 'GPE'), ('Sixteen', 'CARDINAL'), ('Qinghai', 'GPE'), ('Gansu', 'GPE'), ('Jishishan county', 'GPE'), ('Gansu', 'GPE'), ('more than 5,000', 'CARDINAL'), ('16', 'CARDINAL'), ('one', 'CARDINAL'), ('one', 'CARDINAL'), ('Mr Qin', 'PERSON'), ('Chinese', 'NORP'), ('Monday', 'DATE'), ('China', 'GPE'), ('2014', 'DATE'), ('more than 600', 'CARDINAL'), ('Yunnan', 'GPE'), ('Chinese', 'NORP'), ('Xi Jinping', 'PERSON'), ('thousands', 'CARDINAL'), ('China', 'GPE'), ('Gansu', 'GPE'), ('Tibetan', 'NORP'), ('Mongolia', 'GPE'), ('China', 'GPE'), ('Linxia Hui Autonomous Prefecture', 'PERSON'), ('Chinese Muslim', 'NORP'), ('Hui', 'NORP'), ('Dongxiang', 'PERSON'), ('Salar', 'NORP'), ('Chinese', 'NORP'), ('6.2', 'CARDINAL'), ('the US Geological Survey (USGS', 'ORG'), ('5.9', 'CARDINAL'), ('10km (6 miles', 'QUANTITY'), ('Dozens', 'CARDINAL'), ('more than 5.0', 'CARDINAL'), ('the coming days', 'DATE'), ('BBC', 'ORG'), ('Monday', 'DATE'), ('sub-zero', 'CARDINAL'), ('Wang Yi', 'PERSON'), ('the Blue Sky Rescue Team', 'ORG'), ('BBC', 'ORG'), ('China', 'GPE'), ('more than 30,000', 'CARDINAL'), ('Wang', 'PERSON'), ('Xi', 'PERSON'), ('China', 'GPE'), ('Eurasian', 'NORP'), ('Indian', 'NORP'), ('Pacific', 'LOC'), ('Yushu', 'GPE'), ('Qinghai province', 'GPE'), ('Gansu', 'GPE'), ('almost 2,700', 'CARDINAL'), ('2010', 'DATE'), ('China', 'GPE'), ('recent decades', 'DATE'), ('Sichuan', 'GPE'), ('2008', 'DATE'), ('87,000', 'CARDINAL')]\n",
      "Context: Gansu earthquake: Authorities nearing end of rescues as more than 130 killed By Frances Mao BBC News 20 December 2023 Rescue efforts for survivors of an earthquake that killed at least 131 in China's north-west are coming to an end. Authorities on Wednesday said they were wrapping up operations and would now focus on treating the injured and helping those who lost their homes. The 6.2 magnitude quake hit Gansu province Monday night, injuring nearly 1,000 in the mountainous region. Thousands of workers have been operating in sub-zero temperatures. Temperatures hit -13C (8.7F) on Tuesday, Chinese media reported. Large parts of northern China are caught in a cold snap, with many cities reporting record low temperatures. Sixteen people remain missing in neighbouring Qinghai province, to the south of Gansu. Local officials in Jishishan county, the worst-hit in Gansu province, said more than 5,000 buildings in the area had been damaged. Many other buildings in the province were hit by mudslides triggered by the quake, while roads were damaged by landslides. Pictures from the region showed entire villages split by the quake, as well as collapsed buildings and houses. Residents who fled their homes were also shown huddling over makeshift fires at hastily erected evacuation camps. Survivors said the tremors had felt like \"being tossed by surging waves\" and recalled rushing out of their apartments. \"I woke my family up and we rushed down all 16 floors in one breath,\" said one man named Mr Qin by Chinese outlets. Monday's quake was reported as China's deadliest earthquake since 2014, when more than 600 people were killed by a quake in south-western Yunnan province. Chinese President Xi Jinping ordered thousands of firemen, soldiers and policemen, as well as medical personnel, to the region, which is among the poorest and most diverse in China. Gansu lies between the Tibetan and Loess plateaus and borders Mongolia. The remote region is one of China's poorest and most ethnically diverse. The epicentre of the quake was in Linxia Hui Autonomous Prefecture, home to many Chinese Muslim groups, including the Hui, Bonan, Dongxiang and Salar people. Chinese authorities said the quake measured 6.2 on the Richter scale, while the US Geological Survey (USGS) recorded a magnitude of 5.9 and depth of 10km (6 miles). Dozens of smaller aftershocks followed the initial quake. Officials also warned of possible tremors with a magnitude of more than 5.0 in the coming days. Officials had told the BBC on Monday they had limited time to rescue people in the sub-zero conditions. \"It is too cold to bear... it's -15C [here],\" Wang Yi, chief commander of the Blue Sky Rescue Team, told the BBC. Blue Sky is China's largest non-governmental humanitarian organisation, with more than 30,000 volunteers across the country. Mr Wang said he expected the number of casualties to climb. \"We now need to dig deeper [into the rubble]. But there are no big buildings in the area. So it will rise, but it won't be much,\" he said. President Xi has said \"all efforts should be made to carry out search and rescue, treat the injured in a timely manner, and minimise casualties\". China sits in a region where a number of tectonic plates - notably the Eurasian, Indian and Pacific plates - meet. It is particularly prone to earthquakes. An earthquake in Yushu in Qinghai province, which is next to Gansu, claimed almost 2,700 lives in 2010. China's most devastating earthquake in recent decades was in the south-western province of Sichuan in 2008 when 87,000 people were killed.\n",
      "\n"
     ]
    }
   ],
   "source": [
    "for i, row in final_paper_df.iterrows():\n",
    "    print(f\"Article {i+1} Entities: {row['Entities']}\")\n",
    "    print(f\"Context: {row['Doc'].text}\")\n",
    "    print()"
   ]
  },
  {
   "cell_type": "code",
   "execution_count": 86,
   "id": "014c4dc9",
   "metadata": {},
   "outputs": [],
   "source": [
    "# Save DataFrame as csv (in Google Drive)\n",
    "# Use this step only to save  csv to your computer's working directory\n",
    "final_paper_df.to_csv('MICUSP_papers_with_spaCy_tags.csv')"
   ]
  },
  {
   "cell_type": "markdown",
   "id": "9429b4a9",
   "metadata": {},
   "source": [
    "## Conclusion"
   ]
  },
  {
   "cell_type": "markdown",
   "id": "b7be8908",
   "metadata": {},
   "source": [
    "### Central Role of China and Xi Jinping:\n",
    "The language consistently emphasizes the central role of China, with frequent mentions of \"China\" as a named entity.\n",
    "Chinese President Xi Jinping is prominently featured in all articles, highlighting his direct involvement in coordinating and ordering rescue efforts."
   ]
  },
  {
   "cell_type": "markdown",
   "id": "430c4389",
   "metadata": {},
   "source": [
    "### Diverse Ethnic Makeup and Regional Impact:\n",
    "The articles highlight the diverse ethnic makeup of the affected regions, including mentions of Tibetan, Mongolian, and Muslim groups.\n",
    "The earthquake's impact is discussed across different provinces (e.g., Xinjiang, Qinghai, Yunnan), emphasizing its regional significance."
   ]
  },
  {
   "cell_type": "markdown",
   "id": "6093a70d",
   "metadata": {},
   "source": [
    "### Comparison Across Articles:\n",
    "The articles share common themes in terms of China's internal response, but they provide additional details and context in each iteration.\n",
    "The language in each article contributes to a broader narrative of the evolving situation and response to the earthquake."
   ]
  },
  {
   "cell_type": "markdown",
   "id": "a36cd3e3",
   "metadata": {},
   "source": [
    "While the analysis provides valuable insights into how the language portrays the international community's response, it is important to note that the focus remains primarily on China's internal efforts. The narrative emphasizes the government's leadership, regional impact, and the diverse communities affected. To delve deeper into the international community's role, further analysis of additional sources and perspectives may be warranted."
   ]
  }
 ],
 "metadata": {
  "kernelspec": {
   "display_name": "Python 3 (ipykernel)",
   "language": "python",
   "name": "python3"
  },
  "language_info": {
   "codemirror_mode": {
    "name": "ipython",
    "version": 3
   },
   "file_extension": ".py",
   "mimetype": "text/x-python",
   "name": "python",
   "nbconvert_exporter": "python",
   "pygments_lexer": "ipython3",
   "version": "3.11.4"
  }
 },
 "nbformat": 4,
 "nbformat_minor": 5
}
